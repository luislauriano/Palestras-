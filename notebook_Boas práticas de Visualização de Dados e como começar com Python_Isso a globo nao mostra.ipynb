{
  "nbformat": 4,
  "nbformat_minor": 0,
  "metadata": {
    "colab": {
      "name": "notebook_palestra.ipynb",
      "provenance": [],
      "collapsed_sections": []
    },
    "kernelspec": {
      "display_name": "Python 3",
      "name": "python3"
    }
  },
  "cells": [
    {
      "cell_type": "markdown",
      "metadata": {
        "id": "wP6kdY0GVDJo",
        "colab_type": "text"
      },
      "source": [
        "#**Como começar a visualizar dados com Python?**"
      ]
    },
    {
      "cell_type": "markdown",
      "metadata": {
        "id": "BssYhRYFVmmR",
        "colab_type": "text"
      },
      "source": [
        "\n",
        "![eda](https://cio.com.br/wp-content/uploads/2018/07/datavisualization_664360489.jpg)"
      ]
    },
    {
      "cell_type": "markdown",
      "metadata": {
        "id": "-UaSQ7mFLW4G",
        "colab_type": "text"
      },
      "source": [
        "Os gráficos em Python podem ser construídos até mesmo com a biblioteca Pandas de manipulação de dados, porém devemos ter um bom leque de bibliotecas que constroem visualização de dados em Python, tendo em vista as necessidades que surgem de melhorarmos os gráficos, para que os mesmos transmitam uma melhor informação e uma visualização mais adequada ao objetivo da informação que queremos passar. \n"
      ]
    },
    {
      "cell_type": "markdown",
      "metadata": {
        "id": "N2dhAYVjL5mb",
        "colab_type": "text"
      },
      "source": [
        "\n",
        "Vamos ver um pouco sobre como dar os primeiros passos com a biblioteca **Matplotlib**, umas das principais e pioneiras bibliotecas para visualização de dados e a biblioteca **Seaborn**, sendo uma excelente alternativa para cumprir as principais regras que uma boa visualização precisa.  Vamos simbora colocar a mão na massa! "
      ]
    },
    {
      "cell_type": "markdown",
      "metadata": {
        "id": "piuFtDcDorB3",
        "colab_type": "text"
      },
      "source": [
        "Lembrar sempre que o objetivo da visualização de dados é transcrever o problema do negocio para algo que faça sentido e ajude a compreender o problema."
      ]
    },
    {
      "cell_type": "markdown",
      "metadata": {
        "id": "jtjJIqs8VcEq",
        "colab_type": "text"
      },
      "source": [
        "##**Matplotlib**"
      ]
    },
    {
      "cell_type": "markdown",
      "metadata": {
        "id": "_XqtUat2WYdi",
        "colab_type": "text"
      },
      "source": [
        "A biblioteca Matplotlib é a mais conhecida pela comunidade de Python, isso porque foi a biblioteca pioneira para visualização de dados, ainda sendo a mais usada por todos os cientistas de dados e programadores Python. \n",
        "\n",
        "A biblioteca ainda é utilizada como suporte para construção de visualização de dados  por outras bibliotecas e ferramentas, como a biblioteca de manipulação de dados Pandas. Porém nem tudo são flores, a API da biblioteca não é tão familiar e para que possamos construir uma boa visualização de dados e que seja respeitada as regras de visualização de dados que aqui foram faladas, é preciso muita customização e trabalho manual para gerar gráficos atraentes."
      ]
    },
    {
      "cell_type": "markdown",
      "metadata": {
        "id": "QKLUM8b4Xh2O",
        "colab_type": "text"
      },
      "source": [
        "* Conda – conda install matplotlib\n",
        "* Pip – pip install matplotlib"
      ]
    },
    {
      "cell_type": "code",
      "metadata": {
        "id": "LOsxygHXVHxg",
        "colab_type": "code",
        "colab": {
          "base_uri": "https://localhost:8080/",
          "height": 136
        },
        "outputId": "b2c37486-5822-4af7-c14a-ccf59f5c763f"
      },
      "source": [
        "pip install matplotlib \n"
      ],
      "execution_count": null,
      "outputs": [
        {
          "output_type": "stream",
          "text": [
            "Requirement already satisfied: matplotlib in /usr/local/lib/python3.6/dist-packages (3.2.2)\n",
            "Requirement already satisfied: pyparsing!=2.0.4,!=2.1.2,!=2.1.6,>=2.0.1 in /usr/local/lib/python3.6/dist-packages (from matplotlib) (2.4.7)\n",
            "Requirement already satisfied: numpy>=1.11 in /usr/local/lib/python3.6/dist-packages (from matplotlib) (1.18.5)\n",
            "Requirement already satisfied: cycler>=0.10 in /usr/local/lib/python3.6/dist-packages (from matplotlib) (0.10.0)\n",
            "Requirement already satisfied: kiwisolver>=1.0.1 in /usr/local/lib/python3.6/dist-packages (from matplotlib) (1.2.0)\n",
            "Requirement already satisfied: python-dateutil>=2.1 in /usr/local/lib/python3.6/dist-packages (from matplotlib) (2.8.1)\n",
            "Requirement already satisfied: six in /usr/local/lib/python3.6/dist-packages (from cycler>=0.10->matplotlib) (1.15.0)\n"
          ],
          "name": "stdout"
        }
      ]
    },
    {
      "cell_type": "code",
      "metadata": {
        "id": "aDPAmKJNYMWJ",
        "colab_type": "code",
        "colab": {}
      },
      "source": [
        "#Importar a biblioteca \n",
        "import matplotlib.pyplot as plt"
      ],
      "execution_count": null,
      "outputs": []
    },
    {
      "cell_type": "markdown",
      "metadata": {
        "id": "Ct7aZrQYYplL",
        "colab_type": "text"
      },
      "source": [
        "Agora vamos colocar a mão na massa, iniciando com um gráfico de Barra. Logo você irá perceber que em poucas linhas de código você já consegue plotar seu primeiro gráfico."
      ]
    },
    {
      "cell_type": "markdown",
      "metadata": {
        "id": "ZMEVhh5WY7m0",
        "colab_type": "text"
      },
      "source": [
        "###**Bar plot (Gráfico de Barras)**"
      ]
    },
    {
      "cell_type": "markdown",
      "metadata": {
        "id": "eGKc8-C_grq_",
        "colab_type": "text"
      },
      "source": [
        "No bar plot ou gráfico de barras, em sua maioria queremos observar a relação entre uma variável qualitativa (categórica) e uma variável quantitativa (numérica)."
      ]
    },
    {
      "cell_type": "markdown",
      "metadata": {
        "id": "M4f7VivLpWHJ",
        "colab_type": "text"
      },
      "source": [
        "Ter cuidado para não confundir o gráfico de barra com o gráfico de histograma, nos histogramas o objetivo é visualizar como os dados de uma variável estão distribuídos. "
      ]
    },
    {
      "cell_type": "code",
      "metadata": {
        "id": "jCAiOiXxXK-c",
        "colab_type": "code",
        "colab": {
          "base_uri": "https://localhost:8080/",
          "height": 268
        },
        "outputId": "72365f6f-8485-4914-ecea-d0d9dfddbdaf"
      },
      "source": [
        "#Plotando Gráfico de Barra\n",
        "x = [5, 7]\n",
        "y = [4, 8]\n",
        "\n",
        "plt.bar(x, y)\n",
        "plt.show()"
      ],
      "execution_count": null,
      "outputs": [
        {
          "output_type": "display_data",
          "data": {
            "image/png": "[encoded data removed]",
            "text/plain": [
              "<Figure size 432x288 with 1 Axes>"
            ]
          },
          "metadata": {
            "tags": []
          }
        }
      ]
    },
    {
      "cell_type": "markdown",
      "metadata": {
        "id": "MqFcSbjtZVkd",
        "colab_type": "text"
      },
      "source": [
        "No entanto, como vocês podem observar, em nosso gráfico ainda está faltando legendas, identificações dos rótulos X e Y, etc... Para o gráfico começar a ficar com um melhor visual e entendimento."
      ]
    },
    {
      "cell_type": "code",
      "metadata": {
        "id": "xofJu8j0YKFF",
        "colab_type": "code",
        "colab": {
          "base_uri": "https://localhost:8080/",
          "height": 301
        },
        "outputId": "f386c029-96a1-4a82-95c4-c3824fc8cf57"
      },
      "source": [
        "x = [5, 7]\n",
        "y = [4, 8]\n",
        "\n",
        "#Legendas\n",
        "plt.title('Meu primeiro gráfico')\n",
        "plt.xlabel('Eixo X')\n",
        "plt.ylabel('Eixo Y')\n",
        "\n",
        "plt.bar(x, y)\n",
        "plt.show();"
      ],
      "execution_count": null,
      "outputs": [
        {
          "output_type": "display_data",
          "data": {
            "image/png": "[encoded data removed]",
            "text/plain": [
              "<Figure size 432x288 with 1 Axes>"
            ]
          },
          "metadata": {
            "tags": []
          }
        }
      ]
    },
    {
      "cell_type": "markdown",
      "metadata": {
        "id": "v-AlZC_Sa4lv",
        "colab_type": "text"
      },
      "source": [
        "Até o momento estávamos trabalhando apenas com um único valor quantitativo. Vamos agora criar um exemplo para trabalhar com dois valores, sendo qualitativo e quantitativo. Imagine que foi feita na cidade de São Paulo uma pesquisa com 100 pessoas para saber se ao certo a pronuncia é biscoito ou bolacha. Assim sendo, 40 pessoas afirmaram ser biscoito e 60 afirmaram ser bolacha."
      ]
    },
    {
      "cell_type": "markdown",
      "metadata": {
        "id": "gH2ZzPTluhVV",
        "colab_type": "text"
      },
      "source": [
        "![pesquisa](https://media-exp1.licdn.com/dms/image/C4D12AQGJYX8hR_shng/article-inline_image-shrink_1000_1488/0?e=1602115200&v=beta&t=HVnmmtoO2Q_3aLaTJtOaVqiMC9RSCytDfQ7IrtBBaYs)"
      ]
    },
    {
      "cell_type": "markdown",
      "metadata": {
        "id": "OZfPO7vrvRmZ",
        "colab_type": "text"
      },
      "source": [
        "Existem alguns argumentos que podem ser acrescentados em nosso gráfico, para deixa-lo com um melhor visual e entendimento. Como marcadores, cores, nomes, tipos de linhas e etc...Disponibilizado pela biblioteca matplotlib."
      ]
    },
    {
      "cell_type": "code",
      "metadata": {
        "id": "8CtbxQsNaAYK",
        "colab_type": "code",
        "colab": {
          "base_uri": "https://localhost:8080/",
          "height": 284
        },
        "outputId": "9d152b23-2cf1-4038-e9f8-334670c2c656"
      },
      "source": [
        "BISX = ['Biscoito']\n",
        "BISY = [40]\n",
        "\n",
        "BOX = ['Bolacha']\n",
        "BOY = [60]\n",
        "\n",
        "plt.title('Biscoito ou Bolacha')\n",
        "plt.ylabel('Quantidade de Pessoas')\n",
        "\n",
        "#Chamando os argumentos\n",
        "plt.bar(BISX, BISY, label = 'Biscoito')\n",
        "plt.bar(BOX, BOY, label = 'Bolacha')\n",
        "\n",
        "#Metodo Legend\n",
        "plt.legend()\n",
        "plt.show()"
      ],
      "execution_count": null,
      "outputs": [
        {
          "output_type": "display_data",
          "data": {
            "image/png": "[encoded data removed]",
            "text/plain": [
              "<Figure size 432x288 with 1 Axes>"
            ]
          },
          "metadata": {
            "tags": []
          }
        }
      ]
    },
    {
      "cell_type": "markdown",
      "metadata": {
        "id": "E1zIRS1zcbZM",
        "colab_type": "text"
      },
      "source": [
        "Ainda poderíamos alterar a cor, determinando o argumento **color**, seja através da regra rgba ou da regra da biblioteca."
      ]
    },
    {
      "cell_type": "code",
      "metadata": {
        "id": "26oIxHtWbMnv",
        "colab_type": "code",
        "colab": {
          "base_uri": "https://localhost:8080/",
          "height": 284
        },
        "outputId": "c5428867-c275-436c-e589-b114a1325388"
      },
      "source": [
        "import matplotlib.pyplot as plt\n",
        "\n",
        "BISX = ['Biscoito']\n",
        "BISY = [40]\n",
        "BOX = ['Bolacha']\n",
        "BOY = [60]\n",
        "plt.title('Biscoito ou Bolacha')\n",
        "plt.ylabel('Pessoas')\n",
        "\n",
        "#Argumento color\n",
        "plt.bar(BISX, BISY, label = 'Biscoito', color = '#614733')\n",
        "plt.bar(BOX, BOY, label = 'Bolacha', color = '#cc7f43')\n",
        "\n",
        "\n",
        "plt.legend()\n",
        "plt.show()"
      ],
      "execution_count": null,
      "outputs": [
        {
          "output_type": "display_data",
          "data": {
            "image/png": "[encoded data removed]",
            "text/plain": [
              "<Figure size 432x288 with 1 Axes>"
            ]
          },
          "metadata": {
            "tags": []
          }
        }
      ]
    },
    {
      "cell_type": "markdown",
      "metadata": {
        "id": "QHpiIfkBdHeN",
        "colab_type": "text"
      },
      "source": [
        "Veja mais formas de como utilizar os argumentos da biblioteca: https://matplotlib.org/api/_as_gen/matplotlib.pyplot.plot.html"
      ]
    },
    {
      "cell_type": "markdown",
      "metadata": {
        "id": "Acl6MirXeaXE",
        "colab_type": "text"
      },
      "source": [
        "####**Avançando**"
      ]
    },
    {
      "cell_type": "markdown",
      "metadata": {
        "id": "jCrxly5Kiw9e",
        "colab_type": "text"
      },
      "source": [
        "Vamos criar um dataframe para trabalhar melhor com os dados"
      ]
    },
    {
      "cell_type": "code",
      "metadata": {
        "id": "rtN0Ugk2kv99",
        "colab_type": "code",
        "colab": {}
      },
      "source": [
        "dados = {'canal_venda' : ['facebook', 'twitter', 'instagram', 'linkedin', 'facebook'],\n",
        "        'acessos': [100, 200, 300 ,400, 500],\n",
        "        'site': ['site1', 'site1', 'site2', 'site2', 'site3'],\n",
        "        'vendas': [1000.52, 1052.34, 2002, 5000, 300 ]}\n",
        "\n",
        "#Criar um data frame a partir do dicionario \n",
        "df = pd.DataFrame(dados)"
      ],
      "execution_count": null,
      "outputs": []
    },
    {
      "cell_type": "code",
      "metadata": {
        "id": "DCxPMWQaleYh",
        "colab_type": "code",
        "colab": {
          "base_uri": "https://localhost:8080/",
          "height": 204
        },
        "outputId": "df95cd20-e02e-4e78-e027-3be727b79b4b"
      },
      "source": [
        "df.head()"
      ],
      "execution_count": null,
      "outputs": [
        {
          "output_type": "execute_result",
          "data": {
            "text/html": [
              "<div>\n",
              "<style scoped>\n",
              "    .dataframe tbody tr th:only-of-type {\n",
              "        vertical-align: middle;\n",
              "    }\n",
              "\n",
              "    .dataframe tbody tr th {\n",
              "        vertical-align: top;\n",
              "    }\n",
              "\n",
              "    .dataframe thead th {\n",
              "        text-align: right;\n",
              "    }\n",
              "</style>\n",
              "<table border=\"1\" class=\"dataframe\">\n",
              "  <thead>\n",
              "    <tr style=\"text-align: right;\">\n",
              "      <th></th>\n",
              "      <th>canal_venda</th>\n",
              "      <th>acessos</th>\n",
              "      <th>site</th>\n",
              "      <th>vendas</th>\n",
              "    </tr>\n",
              "  </thead>\n",
              "  <tbody>\n",
              "    <tr>\n",
              "      <th>0</th>\n",
              "      <td>facebook</td>\n",
              "      <td>100</td>\n",
              "      <td>site1</td>\n",
              "      <td>1000.52</td>\n",
              "    </tr>\n",
              "    <tr>\n",
              "      <th>1</th>\n",
              "      <td>twitter</td>\n",
              "      <td>200</td>\n",
              "      <td>site1</td>\n",
              "      <td>1052.34</td>\n",
              "    </tr>\n",
              "    <tr>\n",
              "      <th>2</th>\n",
              "      <td>instagram</td>\n",
              "      <td>300</td>\n",
              "      <td>site2</td>\n",
              "      <td>2002.00</td>\n",
              "    </tr>\n",
              "    <tr>\n",
              "      <th>3</th>\n",
              "      <td>linkedin</td>\n",
              "      <td>400</td>\n",
              "      <td>site2</td>\n",
              "      <td>5000.00</td>\n",
              "    </tr>\n",
              "    <tr>\n",
              "      <th>4</th>\n",
              "      <td>facebook</td>\n",
              "      <td>500</td>\n",
              "      <td>site3</td>\n",
              "      <td>300.00</td>\n",
              "    </tr>\n",
              "  </tbody>\n",
              "</table>\n",
              "</div>"
            ],
            "text/plain": [
              "  canal_venda  acessos   site   vendas\n",
              "0    facebook      100  site1  1000.52\n",
              "1     twitter      200  site1  1052.34\n",
              "2   instagram      300  site2  2002.00\n",
              "3    linkedin      400  site2  5000.00\n",
              "4    facebook      500  site3   300.00"
            ]
          },
          "metadata": {
            "tags": []
          },
          "execution_count": 474
        }
      ]
    },
    {
      "cell_type": "code",
      "metadata": {
        "id": "rUqc_0NSi6Sk",
        "colab_type": "code",
        "colab": {
          "base_uri": "https://localhost:8080/",
          "height": 265
        },
        "outputId": "b4d5d1f8-ed54-4b79-96f2-61185906b723"
      },
      "source": [
        "#Plotando gráfico de barra para o conjunto de dados\n",
        "df.plot.bar();"
      ],
      "execution_count": null,
      "outputs": [
        {
          "output_type": "display_data",
          "data": {
            "image/png": "[encoded data removed]",
            "text/plain": [
              "<Figure size 432x288 with 1 Axes>"
            ]
          },
          "metadata": {
            "tags": []
          }
        }
      ]
    },
    {
      "cell_type": "code",
      "metadata": {
        "id": "PheuvCTu8Igh",
        "colab_type": "code",
        "colab": {
          "base_uri": "https://localhost:8080/",
          "height": 265
        },
        "outputId": "92ad02d7-74f1-4a39-9d4d-85b862a7ca53"
      },
      "source": [
        "#Plotando gráfico de barra com parâmetro kind \n",
        "df.plot(kind='bar');"
      ],
      "execution_count": null,
      "outputs": [
        {
          "output_type": "display_data",
          "data": {
            "image/png": "[encoded data removed]",
            "text/plain": [
              "<Figure size 432x288 with 1 Axes>"
            ]
          },
          "metadata": {
            "tags": []
          }
        }
      ]
    },
    {
      "cell_type": "markdown",
      "metadata": {
        "id": "0F1IybJamDll",
        "colab_type": "text"
      },
      "source": [
        "Estou determinando que ele plot um gráfico de barras para todo o conjunto de dados e como eu não determinei os eixos X e Y, o gráfico plota as duas colunas númericas do conjunto de dados, acessos e vendas. "
      ]
    },
    {
      "cell_type": "markdown",
      "metadata": {
        "id": "cImQzIVu8MUN",
        "colab_type": "text"
      },
      "source": [
        "Avançando ainda mais um pouco, agora o objetivo é construir um gráfico que indique o número de acesso por canais de vendas e também vamos alterar as cores e tamanho."
      ]
    },
    {
      "cell_type": "code",
      "metadata": {
        "id": "lFngpdP5oIMq",
        "colab_type": "code",
        "colab": {
          "base_uri": "https://localhost:8080/",
          "height": 456
        },
        "outputId": "faf473df-e23d-455d-ab1f-3b458fc738f0"
      },
      "source": [
        "#Agrupando os dados de acesso por canais de venda para criar o gráfico\n",
        "dados = df.groupby('canal_venda')['acessos'].max()\n",
        "\n",
        "#Alterando o tamanho (criando uma nova figura por isso o 'ax')\n",
        "fig, ax = plt.subplots(figsize=(10,6))\n",
        "\n",
        "#Cores\n",
        "color = ['#2144de','#d9485b', '#385fba', '#769df5']\n",
        "\n",
        "#Inserindo argumento de cor\n",
        "dados.plot(kind='bar', ax=ax, color=(color));\n",
        "\n",
        "#Alterando as legendas\n",
        "plt.title('Número de acesso por canais de venda');\n",
        "ax.set_xlabel('Canal de venda');\n",
        "ax.set_ylabel('Acessos');"
      ],
      "execution_count": null,
      "outputs": [
        {
          "output_type": "display_data",
          "data": {
            "image/png": "[encoded data removed]",
            "text/plain": [
              "<Figure size 720x432 with 1 Axes>"
            ]
          },
          "metadata": {
            "tags": []
          }
        }
      ]
    },
    {
      "cell_type": "markdown",
      "metadata": {
        "id": "VbeBaepxh0JZ",
        "colab_type": "text"
      },
      "source": [
        "Uma novidade foi que aumentamos o tamanho do gráfico construindo uma nova figura, por isso usamos o **ax** e criamos uma lista de cores para ser usada no parâmetro **color**. \n",
        "\n"
      ]
    },
    {
      "cell_type": "markdown",
      "metadata": {
        "id": "w4oODthD_CiN",
        "colab_type": "text"
      },
      "source": [
        "Lembre-se que isso é só um exemplo, não está nem perto de uma boa visualização."
      ]
    },
    {
      "cell_type": "markdown",
      "metadata": {
        "id": "88VCRcz4qYhB",
        "colab_type": "text"
      },
      "source": [
        "###**Histograma**"
      ]
    },
    {
      "cell_type": "markdown",
      "metadata": {
        "id": "XN_fk3Jrqave",
        "colab_type": "text"
      },
      "source": [
        "O histograma é um dos gráficos mais conhecidos e úteis na visualização de dados. Através do histograma conseguimos ter uma ideia da distribuição dos dados através de seus bucktes."
      ]
    },
    {
      "cell_type": "markdown",
      "metadata": {
        "id": "JPMkfmRHh0Iw",
        "colab_type": "text"
      },
      "source": [
        "Para construí-lo, primeiro separamos o range de valores da variável em buckets (bins), ou seja intervalos menores, de igual tamanho. A altura de cada retângulo em um bucket (bin) é a contagem do número de observações que pertencem àquele bucket. Quanto mais alto um bucket, mais observações ele contém (e mais denso ele é), menos distribuído."
      ]
    },
    {
      "cell_type": "code",
      "metadata": {
        "id": "mFdmzyuvpA8m",
        "colab_type": "code",
        "colab": {
          "base_uri": "https://localhost:8080/",
          "height": 268
        },
        "outputId": "bf79868a-ec7f-4326-a1f3-6d97bc7bf2c4"
      },
      "source": [
        "#plotando um gráfico de histograma\n",
        "df.plot(kind='hist', bins=10);"
      ],
      "execution_count": null,
      "outputs": [
        {
          "output_type": "display_data",
          "data": {
            "image/png": "[encoded data removed]",
            "text/plain": [
              "<Figure size 432x288 with 1 Axes>"
            ]
          },
          "metadata": {
            "tags": []
          }
        }
      ]
    },
    {
      "cell_type": "markdown",
      "metadata": {
        "id": "pFcbobhckY5M",
        "colab_type": "text"
      },
      "source": [
        "Dessa forma estamos construindo um gráfico de histograma para todas as variáveis numéricas do conjunto de dados,  porém também é possível plotarmos um histograma para cada variável, veja: "
      ]
    },
    {
      "cell_type": "code",
      "metadata": {
        "id": "9tOsv3PUxLnA",
        "colab_type": "code",
        "colab": {
          "base_uri": "https://localhost:8080/",
          "height": 284
        },
        "outputId": "5f48cf71-7f70-4ddf-a727-3e4ffc401371"
      },
      "source": [
        "#Plotando histograma para cada variavel (coluna) com 6 bucket (bins)\n",
        "df.hist(bins=6);"
      ],
      "execution_count": null,
      "outputs": [
        {
          "output_type": "display_data",
          "data": {
            "image/png": "[encoded data removed]",
            "text/plain": [
              "<Figure size 432x288 with 2 Axes>"
            ]
          },
          "metadata": {
            "tags": []
          }
        }
      ]
    },
    {
      "cell_type": "markdown",
      "metadata": {
        "id": "uNyyAnzSieiq",
        "colab_type": "text"
      },
      "source": [
        "O histograma é uma aproximação discreta da distribuição de probabilidade dos dados. A altura de cada retangulo representa a frequencia absoluta com que o valor da classe ocorre no conjunto de dados p/ classes uniformes."
      ]
    },
    {
      "cell_type": "markdown",
      "metadata": {
        "id": "607NUIqbkho8",
        "colab_type": "text"
      },
      "source": [
        "###**Scatterplot**"
      ]
    },
    {
      "cell_type": "markdown",
      "metadata": {
        "id": "9WUVEno2x6iU",
        "colab_type": "text"
      },
      "source": [
        "O scatter plot é basicamente um gráfico de dispersão de pontos em um plano. Sendo útil para verificar como  os dados de uma variváel estão distribuidos sobre outra variável."
      ]
    },
    {
      "cell_type": "markdown",
      "metadata": {
        "id": "8CcHzEHu0Xtb",
        "colab_type": "text"
      },
      "source": [
        "O scatter plot se torna muito eficiente quando estamos lhe dando com um grande conjunto de dados e precisamos formular hipóteses. Pois com gráfico podemos analisar como os dados estão dispersos e distribuídos, retirando ricas informações."
      ]
    },
    {
      "cell_type": "markdown",
      "metadata": {
        "id": "AyWemsAnyJ6J",
        "colab_type": "text"
      },
      "source": [
        "* Representando em sua maioria por duas ou mais variáveis, utiliza coordenadas cartesianas para exibir valores de um conjunto de dados. \n",
        "* Exibidos como uma coleção de pontos, cada um com o valor de uma variável."
      ]
    },
    {
      "cell_type": "code",
      "metadata": {
        "id": "n3g785tHyTNs",
        "colab_type": "code",
        "colab": {
          "base_uri": "https://localhost:8080/",
          "height": 381
        },
        "outputId": "0a8ca7c8-4961-47e8-edbf-fa91cccbce5c"
      },
      "source": [
        "#Construindo um scatterplot\n",
        "plt.figure(figsize=(10,6))\n",
        "\n",
        "plt.scatter(df.acessos, df.vendas,\n",
        "            alpha=0.5, cmap=\"viridis\")\n",
        "\n",
        "plt.colorbar();"
      ],
      "execution_count": null,
      "outputs": [
        {
          "output_type": "display_data",
          "data": {
            "image/png": "[encoded data removed]",
            "text/plain": [
              "<Figure size 720x432 with 2 Axes>"
            ]
          },
          "metadata": {
            "tags": []
          }
        }
      ]
    },
    {
      "cell_type": "markdown",
      "metadata": {
        "id": "Vg1q-PDn0lwK",
        "colab_type": "text"
      },
      "source": [
        "O parâmetro **alpha** representa a transparência dos pontos e o **cmap** as cores do gráfico. O parâmetro cmap é um dos mais uteis para mantermos a integridade gráfica, sendo usado tanto na biblioteca matplotlib como também na seaborn. Temos que sempre buscar outros parâmetros para melhorar a qualidade dos gráficos. Existem diversos parâmetros que podem ser usados para a customização do resultado final.\n",
        "\n"
      ]
    },
    {
      "cell_type": "markdown",
      "metadata": {
        "id": "mNAE6m3i16FR",
        "colab_type": "text"
      },
      "source": [
        "Por mais que a biblioteca matplotlib permita você fazer inúmeras visualização de dados e de diversas formas, já deu pra perceber que ela é um pouco limitada. Portanto, durante o processo de construção de visualizações de dados seja durante a EDA ou não, devemos saber trabalhar com outras opções de bibliotecas, para entregar uma boa visualização de acordo com o objetivo."
      ]
    },
    {
      "cell_type": "markdown",
      "metadata": {
        "id": "G_HjtxmcoIi1",
        "colab_type": "text"
      },
      "source": [
        "##**Seaborn**"
      ]
    },
    {
      "cell_type": "markdown",
      "metadata": {
        "id": "6iJ5LBOjJGR7",
        "colab_type": "text"
      },
      "source": [
        "O seaborn é uma biblioteca essencial para construir atraentes e informativos gráficos estatísticos. Sendo uma das principais bibliotecas para visualização de dados e que conta com uma das melhores documentações, permitindo que possamos ir atrás de mais argumentos para melhorar a visualização do gráfico. Ademais, a biblioteca é muito util para cumprir as regras que toda visualização de dados precisa. "
      ]
    },
    {
      "cell_type": "markdown",
      "metadata": {
        "id": "wxUYrEP7_wd2",
        "colab_type": "text"
      },
      "source": [
        "Os mesmos gráficos que foram feitos com a biblioteca Matplotlib, vamos agora construir com a  biblioteca Seaborn e tentar melhorar a nossa visualização, cumprindo as três regras que foram faladas para uma boa visualização de dados: Integridade gráfica, maximização de cores e tinta e evitar lixo gráfico."
      ]
    },
    {
      "cell_type": "code",
      "metadata": {
        "id": "S7oSD6rH_4-V",
        "colab_type": "code",
        "colab": {}
      },
      "source": [
        "import seaborn as sns;"
      ],
      "execution_count": null,
      "outputs": []
    },
    {
      "cell_type": "code",
      "metadata": {
        "id": "qgXcAFGKeLjI",
        "colab_type": "code",
        "colab": {}
      },
      "source": [
        "#Vamos colocar uma grade ao fundo do nosso gráfico, que irá ajudar a compararmos os gráficos\n",
        "sns.set_style('whitegrid')"
      ],
      "execution_count": null,
      "outputs": []
    },
    {
      "cell_type": "markdown",
      "metadata": {
        "id": "9W7E-fvkpfNO",
        "colab_type": "text"
      },
      "source": [
        "Antes de construímos o gráfico de barras, vamos fazer uma manipulação dos dados construindo um segundo dataframe e somando todos os registros da coluna acessos, para usarmos na construção do gráfico de barras, isso será útil para evitar algumas repetições da coluna canal_venda. "
      ]
    },
    {
      "cell_type": "code",
      "metadata": {
        "id": "9L-dqlz6YJIn",
        "colab_type": "code",
        "colab": {}
      },
      "source": [
        "#Vamos criar um novo df e fazer um agrupamento pra recuperar o total de acesso de cada canal de venda\n",
        "df2 = df.groupby(['canal_venda']).agg({'acessos' : 'sum'}).reset_index()"
      ],
      "execution_count": null,
      "outputs": []
    },
    {
      "cell_type": "code",
      "metadata": {
        "id": "2vmFZxrrNkXC",
        "colab_type": "code",
        "colab": {
          "base_uri": "https://localhost:8080/",
          "height": 410
        },
        "outputId": "99a649ab-7ead-4c79-c900-715305fb319c"
      },
      "source": [
        "#Os dados que queremos usar para construir o gráfico\n",
        "dados = df2[['canal_venda', 'acessos']].sort_values(ascending=False, by='acessos')\n",
        "\n",
        "\n",
        "#grafico de barras com seaborn \n",
        "plt.figure(figsize=(13,6))\n",
        "\n",
        "sns.barplot(x='canal_venda', \n",
        "                 y='acessos', \n",
        "                 data=dados,\n",
        "                 palette = sns.color_palette(\"BuGn_r\", n_colors=len(dados)+2))\n",
        "\n",
        "#setando o gráfico\n",
        "plt.xlabel('Canais de Venda')\n",
        "plt.ylabel('Acessos')\n",
        "plt.title('Número de acesso por canais de venda');"
      ],
      "execution_count": null,
      "outputs": [
        {
          "output_type": "display_data",
          "data": {
            "image/png": "[encoded data removed]",
            "text/plain": [
              "<Figure size 936x432 with 1 Axes>"
            ]
          },
          "metadata": {
            "tags": []
          }
        }
      ]
    },
    {
      "cell_type": "markdown",
      "metadata": {
        "id": "xcMHGK68MPgc",
        "colab_type": "text"
      },
      "source": [
        "Veja que com a biblioteca _seaborn_ obrigatoriamente precisamos informar quem é o eixo X e Y, e o conjunto de dados dos eixos com o parametro **data**"
      ]
    },
    {
      "cell_type": "markdown",
      "metadata": {
        "id": "NwNX7V2uRzVR",
        "colab_type": "text"
      },
      "source": [
        "Também foi utilizado o parâmetro **palette** para informar uma paleta de cores, assim melhorando a visualização e integridade gráfica."
      ]
    },
    {
      "cell_type": "markdown",
      "metadata": {
        "id": "VRbCLz5fqOsQ",
        "colab_type": "text"
      },
      "source": [
        "Vale lembrar que no bar plot do seaborn, cada eixo de X tem sua altura na media dos valores de Y. "
      ]
    },
    {
      "cell_type": "code",
      "metadata": {
        "id": "trHQFma9eQ9c",
        "colab_type": "code",
        "colab": {
          "base_uri": "https://localhost:8080/",
          "height": 410
        },
        "outputId": "578e7c12-54c8-4b77-f5a0-ac986d370967"
      },
      "source": [
        "#histograma com seaborn\n",
        "plt.figure(figsize=(10,6))\n",
        "\n",
        "#Transformar a coluna vendas do tipo float em int\n",
        "df['vendas'] = df['vendas'].astype(int)\n",
        "\n",
        "#dados que queremos usar\n",
        "dados = df[['vendas','acessos']]\n",
        "\n",
        "sns.distplot(dados, rug=True);\n",
        "plt.title('Histograma ou Distplot')"
      ],
      "execution_count": null,
      "outputs": [
        {
          "output_type": "execute_result",
          "data": {
            "text/plain": [
              "Text(0.5, 1.0, 'Histograma ou Distplot')"
            ]
          },
          "metadata": {
            "tags": []
          },
          "execution_count": 485
        },
        {
          "output_type": "display_data",
          "data": {
            "image/png": "[encoded data removed]",
            "text/plain": [
              "<Figure size 720x432 with 1 Axes>"
            ]
          },
          "metadata": {
            "tags": []
          }
        }
      ]
    },
    {
      "cell_type": "markdown",
      "metadata": {
        "id": "SNWPZeQKi_QS",
        "colab_type": "text"
      },
      "source": [
        "O histograma gerado pelo seaborn ele tende a ser mais rico por possuir alguns parâmetros que não existem no matplotlib e consequentemente isso passa mais informação de como os dados estão distribuídos. Parâmetros como o **rug**, note que:"
      ]
    },
    {
      "cell_type": "markdown",
      "metadata": {
        "id": "xFH9GgPPt9QT",
        "colab_type": "text"
      },
      "source": [
        "O histograma gerado pelo seaborn apresenta a curva de KDE (curva de densidade estimada), que é uma estimação da verdadeira função de densidade dos dados, e com o parâmetro rug, que são as pequenas marcas verticais na parte inferior do gráfico é capaz de indicar a densidade de kernel dos dados como se fossem um histograma 1D."
      ]
    },
    {
      "cell_type": "markdown",
      "metadata": {
        "id": "RkiJe67It_nO",
        "colab_type": "text"
      },
      "source": [
        "Para plotarmos o gráfico de histograma ou distplot, basta usar o método do gráfico, distplot(), porém também é possível usar parâmetros que passam mais informações de como os dados estão distribuídos, como o rug que indica uma estimativa de densidade de kernel."
      ]
    },
    {
      "cell_type": "code",
      "metadata": {
        "id": "A1RzaoBG_91O",
        "colab_type": "code",
        "colab": {
          "base_uri": "https://localhost:8080/",
          "height": 394
        },
        "outputId": "bef08de2-1370-4b9f-a43a-2d5331a11dd1"
      },
      "source": [
        "#scatterplot com seaborn\n",
        "plt.figure(figsize=(10,6))\n",
        "\n",
        "sns.scatterplot(x='acessos', y='vendas', hue=\"canal_venda\", palette=\"coolwarm\", s=500, alpha=1.0, data=df);"
      ],
      "execution_count": null,
      "outputs": [
        {
          "output_type": "display_data",
          "data": {
            "image/png": "[encoded data removed]",
            "text/plain": [
              "<Figure size 720x432 with 1 Axes>"
            ]
          },
          "metadata": {
            "tags": []
          }
        }
      ]
    },
    {
      "cell_type": "markdown",
      "metadata": {
        "id": "6bzTuIdFLvTp",
        "colab_type": "text"
      },
      "source": [
        "No parâmetro **hue** passamos as variáveis que cada cor representa e como dito anteriormente, o parâmetro **alpha** representa a transparência dos pontos. O parâmetro **s** permite aumentar o tamanho do ícone das bolas."
      ]
    },
    {
      "cell_type": "markdown",
      "metadata": {
        "id": "YtFSP9kN2wYf",
        "colab_type": "text"
      },
      "source": [
        "O seaborn ainda conta com uma funcionalidade emprestada de uma das principais bibliotecas, ggplot2, para visualização de dados da linguagem R. A possibilidade de criar scatter plots com uma curva de regressão. "
      ]
    },
    {
      "cell_type": "code",
      "metadata": {
        "id": "080nke4r3PvU",
        "colab_type": "code",
        "colab": {
          "base_uri": "https://localhost:8080/",
          "height": 394
        },
        "outputId": "5c5a93f8-669f-4e0e-fe52-74bacdbf3c6a"
      },
      "source": [
        "plt.figure(figsize=(10,6))\n",
        "\n",
        "#scatter plot com curva de regressao\n",
        "sns.regplot(data=df, x='acessos', y='vendas', color='black');"
      ],
      "execution_count": null,
      "outputs": [
        {
          "output_type": "display_data",
          "data": {
            "image/png": "[encoded data removed]",
            "text/plain": [
              "<Figure size 720x432 with 1 Axes>"
            ]
          },
          "metadata": {
            "tags": []
          }
        }
      ]
    },
    {
      "cell_type": "markdown",
      "metadata": {
        "id": "fTBZIsY7w45k",
        "colab_type": "text"
      },
      "source": [
        "Existem outros tipos de gráficos que aqui não foram mencionados que são de extrema importância para a visualização de dados, como boxplot, heatmap (mapa de correlação), distplot e entre outros. Bibliotecas como Plotly e Bokeh que também não foram vistas, são de extrema importância, por se tratarem de bibliotecas extremamente intuitivas..  "
      ]
    },
    {
      "cell_type": "markdown",
      "metadata": {
        "id": "82LstfdU3XKQ",
        "colab_type": "text"
      },
      "source": [
        "##**Conclusão**"
      ]
    },
    {
      "cell_type": "markdown",
      "metadata": {
        "id": "PuQfmXsC3UQH",
        "colab_type": "text"
      },
      "source": [
        "Sempre que for construir um gráfico e realizar uma visualização de dados, seja na linguagem Python, R ou através de outra ferramenta de visualização de dados, lembre-se sempre das três regras principais que uma boa visualização de dados precisa: Integridade gráfica para que possam confiar em seus gráficos, maximização e proporção de tintas, lembre-se “menos é mais” e  evitar lixos gráficos para que seu gráfico seja o foco das atenções. Por fim, indico os dois livros que são essenciais para quem quer construir visualizações de dados, “Storytelling com Dados” e “Como Mentir com Estatística”, ambos abordam como você pode ter boas práticas na hora de construir visualização de dados como aqui foi falado.    "
      ]
    },
    {
      "cell_type": "markdown",
      "metadata": {
        "id": "xLnyuebi3itb",
        "colab_type": "text"
      },
      "source": [
        "![livro1](https://www.superfacil.net.br/imagens/produtos/storytelling-com-dados--um-guia-sobre-visualizacao-de-dados-para-profissionais-de-negocios6928.jpg)"
      ]
    },
    {
      "cell_type": "markdown",
      "metadata": {
        "id": "6pqldM0Q36QS",
        "colab_type": "text"
      },
      "source": [
        "![livro2](https://m.media-amazon.com/images/I/51clDutaBAL.jpg)"
      ]
    }
  ]
}